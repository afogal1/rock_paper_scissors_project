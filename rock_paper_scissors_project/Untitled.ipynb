{
 "cells": [
  {
   "cell_type": "code",
   "execution_count": 1,
   "id": "3a49e676",
   "metadata": {},
   "outputs": [
    {
     "name": "stdout",
     "output_type": "stream",
     "text": [
      "Lets play Rock, Paper, Scissors\n",
      "What's your name? alex\n",
      "Hey Alex input your command!\n",
      "rules, play, or quit. : rules\n",
      "The rock is a closed fist; paper is a flat hand with fingers and thumb extended and the palm facing downward; and scissors is a fist with the index and middle fingers fully extended toward the opposing player. Rock wins against scissors; paper wins against rock; and scissors wins against paper.\n",
      "rules, play, or quit. : play\n",
      "choose your weapon. rock/paper/scissors :  rock\n",
      "Tie!\n",
      "Wins: 0 loses: 0\n",
      "rules, play, or quit. : paper\n",
      "That's not a valid play. Check your spelling!\n",
      "rules, play, or quit. : play\n",
      "choose your weapon. rock/paper/scissors :  paper\n",
      "You win, Congratulation alex!\n",
      "Wins: 1 loses: 0\n",
      "rules, play, or quit. : quit\n",
      "Thanks for playing alex!\n"
     ]
    }
   ],
   "source": [
    "import rock"
   ]
  }
 ],
 "metadata": {
  "kernelspec": {
   "display_name": "Python 3 (ipykernel)",
   "language": "python",
   "name": "python3"
  },
  "language_info": {
   "codemirror_mode": {
    "name": "ipython",
    "version": 3
   },
   "file_extension": ".py",
   "mimetype": "text/x-python",
   "name": "python",
   "nbconvert_exporter": "python",
   "pygments_lexer": "ipython3",
   "version": "3.9.7"
  }
 },
 "nbformat": 4,
 "nbformat_minor": 5
}
